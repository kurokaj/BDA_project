{
 "cells": [
  {
   "cell_type": "markdown",
   "metadata": {},
   "source": [
    "# THIS IS JUST A TEST"
   ]
  },
  {
   "cell_type": "code",
   "execution_count": 4,
   "metadata": {},
   "outputs": [],
   "source": [
    "# Imports\n",
    "\n",
    "import pystan\n",
    "import arviz as az\n",
    "import numpy as np\n",
    "import pandas as pd\n",
    "import matplotlib as mpl\n",
    "import matplotlib.pyplot as plt"
   ]
  },
  {
   "cell_type": "code",
   "execution_count": 5,
   "metadata": {},
   "outputs": [
    {
     "name": "stderr",
     "output_type": "stream",
     "text": [
      "INFO:pystan:COMPILING THE C++ CODE FOR MODEL anon_model_018f747e8d0362f5b1db5b6cc8a0732a NOW.\n"
     ]
    }
   ],
   "source": [
    "# the bioassay.csv data as dictionary\n",
    "data = {\n",
    "    'J':4,\n",
    "    'x':[-0.86,-0.30,-0.05,0.73],\n",
    "    'N':[5,5,5,5],\n",
    "    'y':[0,1,3,5]\n",
    "}\n",
    "\n",
    "# The stan model \n",
    "bioassay_model = \"\"\"\n",
    "data {\n",
    "    int<lower=0> J; // Number of rows in data\n",
    "    vector[J] x;    // Dose given\n",
    "    int N[J];    // Amount of trials\n",
    "    int y[J];    // Deaths\n",
    "}\n",
    "parameters {\n",
    "    vector[2] theta;  // The alpha and beta value in a vector \n",
    "}\n",
    "transformed parameters {\n",
    "    vector[J] eta = theta[1]+theta[2]*x;\n",
    "}\n",
    "model {\n",
    "    theta ~ multi_normal([0,10], [[4,10],[10,100]]);\n",
    "    y ~ binomial_logit(N, eta);\n",
    "}\n",
    "\"\"\"\n",
    "\n",
    "model = pystan.StanModel(model_code=bioassay_model)\n",
    "fit = model.sampling(data=data, iter=4000, chains=4)"
   ]
  },
  {
   "cell_type": "code",
   "execution_count": 6,
   "metadata": {},
   "outputs": [
    {
     "name": "stdout",
     "output_type": "stream",
     "text": [
      "Inference for Stan model: anon_model_018f747e8d0362f5b1db5b6cc8a0732a.\n",
      "4 chains, each with iter=4000; warmup=2000; thin=1; \n",
      "post-warmup draws per chain=2000, total post-warmup draws=8000.\n",
      "\n",
      "           mean se_mean     sd   2.5%    25%    50%    75%  97.5%  n_eff   Rhat\n",
      "theta[1]   0.98    0.02    0.9  -0.67   0.35   0.93   1.57   2.87   2679    1.0\n",
      "theta[2]  10.52    0.09   4.57   3.39    7.1   9.96  13.43  20.58   2534    1.0\n",
      "eta[1]    -8.07    0.06   3.49 -15.89 -10.24  -7.58  -5.49   -2.7   2997    1.0\n",
      "eta[2]    -2.18    0.02   1.13  -4.69  -2.85  -2.07  -1.37  -0.32   4946    1.0\n",
      "eta[3]     0.45    0.01   0.79  -1.03  -0.08   0.42   0.96   2.13   3292    1.0\n",
      "eta[4]     8.66    0.08   3.93   2.41   5.69   8.25  11.14  17.31   2271    1.0\n",
      "lp__      -7.13    0.02   1.06  -9.84  -7.53  -6.81  -6.38  -6.11   2391    1.0\n",
      "\n",
      "Samples were drawn using NUTS at Tue Nov 10 12:27:32 2020.\n",
      "For each parameter, n_eff is a crude measure of effective sample size,\n",
      "and Rhat is the potential scale reduction factor on split chains (at \n",
      "convergence, Rhat=1).\n"
     ]
    }
   ],
   "source": [
    "# The data from the sampling\n",
    "samples = fit.extract(permuted=True)\n",
    "alpha = samples[\"theta\"][:,0]\n",
    "beta = samples[\"theta\"][:,1]\n",
    "\n",
    "# For the Rhat value\n",
    "print(fit)"
   ]
  },
  {
   "cell_type": "code",
   "execution_count": null,
   "metadata": {},
   "outputs": [],
   "source": []
  }
 ],
 "metadata": {
  "kernelspec": {
   "display_name": "Python 3",
   "language": "python",
   "name": "python3"
  },
  "language_info": {
   "codemirror_mode": {
    "name": "ipython",
    "version": 3
   },
   "file_extension": ".py",
   "mimetype": "text/x-python",
   "name": "python",
   "nbconvert_exporter": "python",
   "pygments_lexer": "ipython3",
   "version": "3.8.3"
  }
 },
 "nbformat": 4,
 "nbformat_minor": 4
}
