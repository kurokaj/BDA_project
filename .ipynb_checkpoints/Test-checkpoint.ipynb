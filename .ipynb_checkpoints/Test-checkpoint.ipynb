{
 "cells": [
  {
   "cell_type": "markdown",
   "metadata": {},
   "source": [
    "# THIS IS JUST A TEST"
   ]
  },
  {
   "cell_type": "code",
   "execution_count": 1,
   "metadata": {},
   "outputs": [],
   "source": [
    "# Imports\n",
    "\n",
    "# ales\n",
    "import pystan\n",
    "import arviz as az\n",
    "import numpy as np\n",
    "import pandas as pd\n",
    "import matplotlib as mpl\n",
    "import matplotlib.pyplot as plt"
   ]
  },
  {
   "cell_type": "code",
   "execution_count": 2,
   "metadata": {},
   "outputs": [
    {
     "name": "stderr",
     "output_type": "stream",
     "text": [
      "INFO:pystan:COMPILING THE C++ CODE FOR MODEL anon_model_018f747e8d0362f5b1db5b6cc8a0732a NOW.\n"
     ]
    }
   ],
   "source": [
    "# the bioassay.csv data as dictionary\n",
    "data = {\n",
    "    'J':4,\n",
    "    'x':[-0.86,-0.30,-0.05,0.73],\n",
    "    'N':[5,5,5,5],\n",
    "    'y':[0,1,3,5]\n",
    "}\n",
    "\n",
    "# The stan model \n",
    "bioassay_model = \"\"\"\n",
    "data {\n",
    "    int<lower=0> J; // Number of rows in data\n",
    "    vector[J] x;    // Dose given\n",
    "    int N[J];    // Amount of trials\n",
    "    int y[J];    // Deaths\n",
    "}\n",
    "parameters {\n",
    "    vector[2] theta;  // The alpha and beta value in a vector \n",
    "}\n",
    "transformed parameters {\n",
    "    vector[J] eta = theta[1]+theta[2]*x;\n",
    "}\n",
    "model {\n",
    "    theta ~ multi_normal([0,10], [[4,10],[10,100]]);\n",
    "    y ~ binomial_logit(N, eta);\n",
    "}\n",
    "\"\"\"\n",
    "\n",
    "model = pystan.StanModel(model_code=bioassay_model)\n",
    "fit = model.sampling(data=data, iter=4000, chains=4)"
   ]
  },
  {
   "cell_type": "code",
   "execution_count": 3,
   "metadata": {},
   "outputs": [
    {
     "name": "stdout",
     "output_type": "stream",
     "text": [
      "Inference for Stan model: anon_model_018f747e8d0362f5b1db5b6cc8a0732a.\n",
      "4 chains, each with iter=4000; warmup=2000; thin=1; \n",
      "post-warmup draws per chain=2000, total post-warmup draws=8000.\n",
      "\n",
      "           mean se_mean     sd   2.5%    25%    50%    75%  97.5%  n_eff   Rhat\n",
      "theta[1]   0.96    0.02   0.89  -0.66   0.34    0.9    1.5   2.89   2723    1.0\n",
      "theta[2]  10.37    0.09   4.58    3.3   6.97   9.74   13.1  21.02   2403    1.0\n",
      "eta[1]    -7.96    0.07   3.49 -16.06  -9.98  -7.48  -5.38  -2.64   2682    1.0\n",
      "eta[2]    -2.15    0.02   1.12  -4.67  -2.81  -2.03  -1.35  -0.32   4035    1.0\n",
      "eta[3]     0.44    0.01   0.78   -1.0   -0.1   0.41   0.93   2.06   3235    1.0\n",
      "eta[4]     8.53    0.08   3.93   2.35   5.66    8.0  10.95  17.52   2270    1.0\n",
      "lp__       -7.1    0.02   1.03  -9.87   -7.5  -6.78  -6.36  -6.11   2504    1.0\n",
      "\n",
      "Samples were drawn using NUTS at Wed Nov 11 20:12:04 2020.\n",
      "For each parameter, n_eff is a crude measure of effective sample size,\n",
      "and Rhat is the potential scale reduction factor on split chains (at \n",
      "convergence, Rhat=1).\n"
     ]
    }
   ],
   "source": [
    "# The data from the sampling\n",
    "samples = fit.extract(permuted=True)\n",
    "alpha = samples[\"theta\"][:,0]\n",
    "beta = samples[\"theta\"][:,1]\n",
    "\n",
    "# For the Rhat value\n",
    "print(fit)"
   ]
  },
  {
   "cell_type": "code",
   "execution_count": null,
   "metadata": {},
   "outputs": [],
   "source": []
  }
 ],
 "metadata": {
  "kernelspec": {
   "display_name": "Python 3",
   "language": "python",
   "name": "python3"
  },
  "language_info": {
   "codemirror_mode": {
    "name": "ipython",
    "version": 3
   },
   "file_extension": ".py",
   "mimetype": "text/x-python",
   "name": "python",
   "nbconvert_exporter": "python",
   "pygments_lexer": "ipython3",
   "version": "3.8.3"
  }
 },
 "nbformat": 4,
 "nbformat_minor": 4
}
